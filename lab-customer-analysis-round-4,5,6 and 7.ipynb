{
 "cells": [
  {
   "cell_type": "code",
   "execution_count": null,
   "id": "03d7eeef",
   "metadata": {},
   "outputs": [],
   "source": [
    "import pandas as pd\n",
    "import numpy as np\n",
    "import seaborn as sns\n",
    "import matplotlib.pyplot as plt\n",
    "\n",
    "df = pd.read_csv('marketing_customer_analysis.csv')\n",
    "df.shape\n",
    "df.dtypes"
   ]
  },
  {
   "cell_type": "code",
   "execution_count": null,
   "id": "2d497bf9",
   "metadata": {},
   "outputs": [],
   "source": [
    "numerical = df.describe(include=[object]).T\n",
    "numerical"
   ]
  },
  {
   "cell_type": "code",
   "execution_count": null,
   "id": "46d2fdd3",
   "metadata": {},
   "outputs": [],
   "source": [
    "numerical = df.select_dtypes(include='number')\n",
    "categorical = df.select_dtypes(include='object')\n",
    "\n",
    "numerical"
   ]
  },
  {
   "cell_type": "code",
   "execution_count": null,
   "id": "05f0227c",
   "metadata": {},
   "outputs": [],
   "source": [
    "categorical"
   ]
  },
  {
   "cell_type": "code",
   "execution_count": null,
   "id": "3df35fd2",
   "metadata": {},
   "outputs": [],
   "source": [
    "numerical_columns = numerical.columns\n",
    "numerical_columns"
   ]
  },
  {
   "cell_type": "code",
   "execution_count": null,
   "id": "e9c15b4c",
   "metadata": {
    "scrolled": false
   },
   "outputs": [],
   "source": [
    "columns_to_plot = [\n",
    "    'Customer Lifetime Value',\n",
    "    'Income',\n",
    "    'Monthly Premium Auto',\n",
    "    'Months Since Last Claim',\n",
    "    'Months Since Policy Inception',\n",
    "    'Number of Open Complaints',\n",
    "    'Number of Policies',\n",
    "    'Total Claim Amount'\n",
    "]\n",
    "\n",
    "for column in columns_to_plot:\n",
    "    sns.displot(df[column], bins=20)\n",
    "    plt.show()\n"
   ]
  },
  {
   "cell_type": "code",
   "execution_count": null,
   "id": "ae248c29",
   "metadata": {},
   "outputs": [],
   "source": [
    "#The only one that looks like a normal distribution is months since policy inception"
   ]
  },
  {
   "cell_type": "code",
   "execution_count": null,
   "id": "f04ade8d",
   "metadata": {
    "scrolled": false
   },
   "outputs": [],
   "source": [
    "\n",
    "columns_to_plot = [\n",
    "    'Customer Lifetime Value',\n",
    "    'Income',\n",
    "    'Monthly Premium Auto',\n",
    "    'Months Since Last Claim',\n",
    "    'Months Since Policy Inception',\n",
    "    'Number of Open Complaints',\n",
    "    'Number of Policies',\n",
    "    'Total Claim Amount'\n",
    "]\n",
    "\n",
    "\n",
    "for column in columns_to_plot:\n",
    "    sns.histplot(df[column], bins=20)\n",
    "    plt.title(f'Histogram of {column}')\n",
    "    plt.xlabel(column)\n",
    "    plt.show()\n",
    "\n"
   ]
  },
  {
   "cell_type": "code",
   "execution_count": null,
   "id": "61452c33",
   "metadata": {},
   "outputs": [],
   "source": [
    "# Check multicollinearity"
   ]
  },
  {
   "cell_type": "code",
   "execution_count": null,
   "id": "423bdb3a",
   "metadata": {},
   "outputs": [],
   "source": [
    "correlation = numerical.corr()\n",
    "correlation"
   ]
  },
  {
   "cell_type": "code",
   "execution_count": null,
   "id": "f71c9016",
   "metadata": {},
   "outputs": [],
   "source": [
    "correlations_matrix = df.corr()\n",
    "sns.heatmap(correlations_matrix, annot=True)\n",
    "plt.show()"
   ]
  },
  {
   "cell_type": "code",
   "execution_count": null,
   "id": "8de70f71",
   "metadata": {},
   "outputs": [],
   "source": [
    "#-- END OF Lab | Customer Analysis Round 4 --"
   ]
  },
  {
   "cell_type": "markdown",
   "id": "6fe75bc1",
   "metadata": {},
   "source": [
    "# Lab | Customer Analysis Round 5"
   ]
  },
  {
   "cell_type": "code",
   "execution_count": null,
   "id": "8ef8b19f",
   "metadata": {},
   "outputs": [],
   "source": [
    "X = df.drop('Total Claim Amount', axis=1)\n",
    "y = df['Total Claim Amount']\n",
    "\n",
    "X = X.drop(columns=['Customer Lifetime Value','Marital Status'])\n",
    "X.dtypes"
   ]
  },
  {
   "cell_type": "code",
   "execution_count": null,
   "id": "0dd93afa",
   "metadata": {},
   "outputs": [],
   "source": [
    "X_num = X._get_numeric_data()\n",
    "X_cat = X.select_dtypes('object')"
   ]
  },
  {
   "cell_type": "code",
   "execution_count": null,
   "id": "989726f7",
   "metadata": {},
   "outputs": [],
   "source": [
    "print(X.shape)\n",
    "print(X_num.shape)\n",
    "print(X_cat.shape)"
   ]
  },
  {
   "cell_type": "code",
   "execution_count": null,
   "id": "146eedca",
   "metadata": {},
   "outputs": [],
   "source": [
    "#Numerical\n",
    "numerical = pd.DataFrame(round(X_num.describe()))\n",
    "numerical"
   ]
  },
  {
   "cell_type": "code",
   "execution_count": null,
   "id": "50a58143",
   "metadata": {},
   "outputs": [],
   "source": [
    "#Normalizing"
   ]
  },
  {
   "cell_type": "code",
   "execution_count": null,
   "id": "1fd25eca",
   "metadata": {},
   "outputs": [],
   "source": [
    "from sklearn.preprocessing import MinMaxScaler\n",
    "transformer = MinMaxScaler().fit(X_num)\n",
    "x_normalized = transformer.transform(X_num)\n",
    "print(x_normalized.shape)\n",
    "x_normalized\n",
    "pd.DataFrame(x_normalized, columns=X_num.columns)"
   ]
  },
  {
   "cell_type": "markdown",
   "id": "c96d4952",
   "metadata": {},
   "source": [
    "# Lab | Customer Analysis Round 6\n"
   ]
  },
  {
   "cell_type": "code",
   "execution_count": null,
   "id": "ecdb3f0a",
   "metadata": {},
   "outputs": [],
   "source": [
    "cat_column_names = X_cat.columns\n",
    "cat_column_names"
   ]
  },
  {
   "cell_type": "code",
   "execution_count": null,
   "id": "3311c7e5",
   "metadata": {
    "scrolled": true
   },
   "outputs": [],
   "source": [
    "pd.get_dummies(X_cat, drop_first=True).head()"
   ]
  },
  {
   "cell_type": "code",
   "execution_count": null,
   "id": "6ae51d82",
   "metadata": {},
   "outputs": [],
   "source": [
    "from sklearn.preprocessing import OneHotEncoder\n",
    "encoder = OneHotEncoder().fit(X_cat)\n",
    "encoder = OneHotEncoder(drop='first').fit(X_cat)\n",
    "# print(encoder.categories_)\n",
    "encoded = encoder.transform(X_cat).toarray()\n",
    "encoded\n",
    "\n",
    "data_encoded = pd.DataFrame(encoded)\n",
    "data_encoded"
   ]
  },
  {
   "cell_type": "code",
   "execution_count": null,
   "id": "1a4aefb3",
   "metadata": {},
   "outputs": [],
   "source": [
    "#Concat DataFrames\n",
    "\n",
    "X_cat=pd.get_dummies(X_cat, drop_first=True)\n",
    "X=pd.concat([X_num, X_cat], axis=1)\n",
    "X.head()"
   ]
  },
  {
   "cell_type": "code",
   "execution_count": null,
   "id": "92d3d3e8",
   "metadata": {},
   "outputs": [],
   "source": [
    "y = df['Total Claim Amount']\n",
    "y.head()"
   ]
  },
  {
   "cell_type": "code",
   "execution_count": null,
   "id": "2e20ef0e",
   "metadata": {},
   "outputs": [],
   "source": [
    "X.head()"
   ]
  },
  {
   "cell_type": "code",
   "execution_count": null,
   "id": "23828f54",
   "metadata": {},
   "outputs": [],
   "source": [
    "from sklearn.model_selection import train_test_split\n",
    "X_train, X_test, y_train, y_test = train_test_split(X, y, test_size=0.2, random_state=42)"
   ]
  },
  {
   "cell_type": "code",
   "execution_count": null,
   "id": "e4fbe3e5",
   "metadata": {},
   "outputs": [],
   "source": [
    "print(X_train.shape)\n",
    "print(X_test.shape)\n",
    "print(y_train.shape)\n",
    "print(y_test.shape)"
   ]
  },
  {
   "cell_type": "code",
   "execution_count": null,
   "id": "2412910d",
   "metadata": {},
   "outputs": [],
   "source": [
    "X_train.head()"
   ]
  },
  {
   "cell_type": "code",
   "execution_count": null,
   "id": "663fc29f",
   "metadata": {},
   "outputs": [],
   "source": [
    "y_train.head()"
   ]
  },
  {
   "cell_type": "code",
   "execution_count": null,
   "id": "2e27b9b7",
   "metadata": {},
   "outputs": [],
   "source": [
    "lm = linear_model.LinearRegression()\n",
    "lm.fit(X_train,y_train)"
   ]
  },
  {
   "cell_type": "markdown",
   "id": "c8640a00",
   "metadata": {},
   "source": [
    "# Lab | Customer Analysis Round 7"
   ]
  },
  {
   "cell_type": "code",
   "execution_count": null,
   "id": "aa8454f0",
   "metadata": {},
   "outputs": [],
   "source": [
    "from sklearn.metrics import r2_score\n",
    "predictions = lm.predict(X_train)\n",
    "r2_score(y_train, predictions)"
   ]
  },
  {
   "cell_type": "code",
   "execution_count": null,
   "id": "28d77471",
   "metadata": {},
   "outputs": [],
   "source": [
    "predictions_test = lm.predict(X_test)\n",
    "r2_score(y_test, predictions_test)"
   ]
  },
  {
   "cell_type": "code",
   "execution_count": null,
   "id": "7abc7d74",
   "metadata": {},
   "outputs": [],
   "source": []
  },
  {
   "cell_type": "code",
   "execution_count": null,
   "id": "0484ae3e",
   "metadata": {},
   "outputs": [],
   "source": []
  },
  {
   "cell_type": "code",
   "execution_count": null,
   "id": "3502f2ea",
   "metadata": {},
   "outputs": [],
   "source": []
  },
  {
   "cell_type": "code",
   "execution_count": null,
   "id": "52e03f62",
   "metadata": {},
   "outputs": [],
   "source": []
  },
  {
   "cell_type": "code",
   "execution_count": null,
   "id": "47931c55",
   "metadata": {},
   "outputs": [],
   "source": []
  },
  {
   "cell_type": "code",
   "execution_count": null,
   "id": "397dc8aa",
   "metadata": {},
   "outputs": [],
   "source": []
  },
  {
   "cell_type": "code",
   "execution_count": null,
   "id": "318509e1",
   "metadata": {},
   "outputs": [],
   "source": []
  },
  {
   "cell_type": "code",
   "execution_count": null,
   "id": "bc16f7b6",
   "metadata": {},
   "outputs": [],
   "source": []
  },
  {
   "cell_type": "code",
   "execution_count": null,
   "id": "8c31a060",
   "metadata": {},
   "outputs": [],
   "source": []
  }
 ],
 "metadata": {
  "kernelspec": {
   "display_name": "Python 3 (ipykernel)",
   "language": "python",
   "name": "python3"
  },
  "language_info": {
   "codemirror_mode": {
    "name": "ipython",
    "version": 3
   },
   "file_extension": ".py",
   "mimetype": "text/x-python",
   "name": "python",
   "nbconvert_exporter": "python",
   "pygments_lexer": "ipython3",
   "version": "3.10.9"
  }
 },
 "nbformat": 4,
 "nbformat_minor": 5
}
