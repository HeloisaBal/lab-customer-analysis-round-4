{
 "cells": [
  {
   "cell_type": "code",
   "execution_count": null,
   "id": "dba9f20c",
   "metadata": {},
   "outputs": [],
   "source": [
    "import pandas as pd\n",
    "\n",
    "\n",
    "def how_many_times_better_is_focused(df: pd.DataFrame) -> float:\n",
    "    \"\"\" Returns how many times better it is to focus than divide attention, by average \"\"\"\n",
    "    return (\n",
    "        df[df.attention == \"focused\"][\"score\"].mean() /\n",
    "        df[df.attention == \"divided\"][\"score\"].mean()\n",
    "    )\n",
    "\n",
    "def highest_average_solutions(df: pd.DataFrame) -> int:\n",
    "    \"\"\" Returns the solutions id with the highest average score \"\"\"\n",
    "    return (\n",
    "      df.solutions[\n",
    "        df.groupby(\"solutions\")[\"score\"]\n",
    "          .mean()\n",
    "          .agg([\"idxmax\"])\n",
    "      ]\n",
    "      .index[0]\n",
    "    )\n",
    "\n",
    "def top_10_scoring_subjects(df: pd.DataFrame) -> pd.DataFrame:\n",
    "    \"\"\" Returns df of top 10 subjects ranked by score, descending,\n",
    "        with ties broken by subject id ascending, index reset:\n",
    "        \n",
    "       subject     score\n",
    "    0       12  8.333333\n",
    "    1       14  7.666667\n",
    "    2       15  7.666667\n",
    "    3       16  7.000000\n",
    "    4       18  7.000000\n",
    "    5        8  6.666667\n",
    "    6       13  6.666667\n",
    "    7       17  6.666667\n",
    "    8        4  5.666667\n",
    "    9        5  5.666667\n",
    "    \"\"\"\n",
    "    return (\n",
    "      df.groupby(\"subject\")[\"score\"]\n",
    "        .mean()\n",
    "        .reset_index()\n",
    "        .sort_values([\"score\", \"subject\"], ascending=[0, 1])\n",
    "        .head(10)\n",
    "        .reset_index(drop=True)\n",
    "    )"
   ]
  }
 ],
 "metadata": {
  "kernelspec": {
   "display_name": "Python 3 (ipykernel)",
   "language": "python",
   "name": "python3"
  },
  "language_info": {
   "codemirror_mode": {
    "name": "ipython",
    "version": 3
   },
   "file_extension": ".py",
   "mimetype": "text/x-python",
   "name": "python",
   "nbconvert_exporter": "python",
   "pygments_lexer": "ipython3",
   "version": "3.10.9"
  }
 },
 "nbformat": 4,
 "nbformat_minor": 5
}
